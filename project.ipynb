{
  "nbformat": 4,
  "nbformat_minor": 0,
  "metadata": {
    "colab": {
      "name": "Untitled2.ipynb",
      "provenance": [],
      "collapsed_sections": [],
      "authorship_tag": "ABX9TyONDnLyfZA5zhDGHSWo8+8N",
      "include_colab_link": true
    },
    "kernelspec": {
      "name": "python3",
      "display_name": "Python 3"
    }
  },
  "cells": [
    {
      "cell_type": "markdown",
      "metadata": {
        "id": "view-in-github",
        "colab_type": "text"
      },
      "source": [
        "<a href=\"https://colab.research.google.com/github/MohamedAmine095/Amine-GomyCode1/blob/master/project.ipynb\" target=\"_parent\"><img src=\"https://colab.research.google.com/assets/colab-badge.svg\" alt=\"Open In Colab\"/></a>"
      ]
    },
    {
      "cell_type": "code",
      "metadata": {
        "id": "clOEQ_bxJuyP",
        "colab_type": "code",
        "colab": {
          "base_uri": "https://localhost:8080/",
          "height": 394
        },
        "outputId": "a4644cc2-62ef-4f87-c35a-290627c16604"
      },
      "source": [
        "import pandas as pd\n",
        "df=pd.read_csv('movies11.csv',encoding='ISO-8859-1')\n",
        "df.head()"
      ],
      "execution_count": 62,
      "outputs": [
        {
          "output_type": "execute_result",
          "data": {
            "text/html": [
              "<div>\n",
              "<style scoped>\n",
              "    .dataframe tbody tr th:only-of-type {\n",
              "        vertical-align: middle;\n",
              "    }\n",
              "\n",
              "    .dataframe tbody tr th {\n",
              "        vertical-align: top;\n",
              "    }\n",
              "\n",
              "    .dataframe thead th {\n",
              "        text-align: right;\n",
              "    }\n",
              "</style>\n",
              "<table border=\"1\" class=\"dataframe\">\n",
              "  <thead>\n",
              "    <tr style=\"text-align: right;\">\n",
              "      <th></th>\n",
              "      <th>budget</th>\n",
              "      <th>company</th>\n",
              "      <th>country</th>\n",
              "      <th>director</th>\n",
              "      <th>genre</th>\n",
              "      <th>gross</th>\n",
              "      <th>name</th>\n",
              "      <th>rating</th>\n",
              "      <th>released</th>\n",
              "      <th>runtime</th>\n",
              "      <th>score</th>\n",
              "      <th>star</th>\n",
              "      <th>votes</th>\n",
              "      <th>writer</th>\n",
              "      <th>year</th>\n",
              "    </tr>\n",
              "  </thead>\n",
              "  <tbody>\n",
              "    <tr>\n",
              "      <th>0</th>\n",
              "      <td>8000000.0</td>\n",
              "      <td>Columbia Pictures Corporation</td>\n",
              "      <td>USA</td>\n",
              "      <td>Rob Reiner</td>\n",
              "      <td>Adventure</td>\n",
              "      <td>52287414.0</td>\n",
              "      <td>Stand by Me</td>\n",
              "      <td>R</td>\n",
              "      <td>1986-08-22</td>\n",
              "      <td>89</td>\n",
              "      <td>8.1</td>\n",
              "      <td>Wil Wheaton</td>\n",
              "      <td>299174</td>\n",
              "      <td>Stephen King</td>\n",
              "      <td>1986</td>\n",
              "    </tr>\n",
              "    <tr>\n",
              "      <th>1</th>\n",
              "      <td>6000000.0</td>\n",
              "      <td>Paramount Pictures</td>\n",
              "      <td>USA</td>\n",
              "      <td>John Hughes</td>\n",
              "      <td>Comedy</td>\n",
              "      <td>70136369.0</td>\n",
              "      <td>Ferris Bueller's Day Off</td>\n",
              "      <td>PG-13</td>\n",
              "      <td>1986-06-11</td>\n",
              "      <td>103</td>\n",
              "      <td>7.8</td>\n",
              "      <td>Matthew Broderick</td>\n",
              "      <td>264740</td>\n",
              "      <td>John Hughes</td>\n",
              "      <td>1986</td>\n",
              "    </tr>\n",
              "    <tr>\n",
              "      <th>2</th>\n",
              "      <td>15000000.0</td>\n",
              "      <td>Paramount Pictures</td>\n",
              "      <td>USA</td>\n",
              "      <td>Tony Scott</td>\n",
              "      <td>Action</td>\n",
              "      <td>179800601.0</td>\n",
              "      <td>Top Gun</td>\n",
              "      <td>PG</td>\n",
              "      <td>1986-05-16</td>\n",
              "      <td>110</td>\n",
              "      <td>6.9</td>\n",
              "      <td>Tom Cruise</td>\n",
              "      <td>236909</td>\n",
              "      <td>Jim Cash</td>\n",
              "      <td>1986</td>\n",
              "    </tr>\n",
              "    <tr>\n",
              "      <th>3</th>\n",
              "      <td>18500000.0</td>\n",
              "      <td>Twentieth Century Fox Film Corporation</td>\n",
              "      <td>USA</td>\n",
              "      <td>James Cameron</td>\n",
              "      <td>Action</td>\n",
              "      <td>85160248.0</td>\n",
              "      <td>Aliens</td>\n",
              "      <td>R</td>\n",
              "      <td>1986-07-18</td>\n",
              "      <td>137</td>\n",
              "      <td>8.4</td>\n",
              "      <td>Sigourney Weaver</td>\n",
              "      <td>540152</td>\n",
              "      <td>James Cameron</td>\n",
              "      <td>1986</td>\n",
              "    </tr>\n",
              "    <tr>\n",
              "      <th>4</th>\n",
              "      <td>9000000.0</td>\n",
              "      <td>Walt Disney Pictures</td>\n",
              "      <td>USA</td>\n",
              "      <td>Randal Kleiser</td>\n",
              "      <td>Adventure</td>\n",
              "      <td>18564613.0</td>\n",
              "      <td>Flight of the Navigator</td>\n",
              "      <td>PG</td>\n",
              "      <td>1986-08-01</td>\n",
              "      <td>90</td>\n",
              "      <td>6.9</td>\n",
              "      <td>Joey Cramer</td>\n",
              "      <td>36636</td>\n",
              "      <td>Mark H. Baker</td>\n",
              "      <td>1986</td>\n",
              "    </tr>\n",
              "  </tbody>\n",
              "</table>\n",
              "</div>"
            ],
            "text/plain": [
              "       budget                                 company  ...         writer  year\n",
              "0   8000000.0           Columbia Pictures Corporation  ...   Stephen King  1986\n",
              "1   6000000.0                      Paramount Pictures  ...    John Hughes  1986\n",
              "2  15000000.0                      Paramount Pictures  ...       Jim Cash  1986\n",
              "3  18500000.0  Twentieth Century Fox Film Corporation  ...  James Cameron  1986\n",
              "4   9000000.0                    Walt Disney Pictures  ...  Mark H. Baker  1986\n",
              "\n",
              "[5 rows x 15 columns]"
            ]
          },
          "metadata": {
            "tags": []
          },
          "execution_count": 62
        }
      ]
    },
    {
      "cell_type": "code",
      "metadata": {
        "id": "xipZrEyR01iE",
        "colab_type": "code",
        "colab": {
          "base_uri": "https://localhost:8080/",
          "height": 391
        },
        "outputId": "b67a41dc-743c-4abc-a51f-02ce0f07cf0a"
      },
      "source": [
        "df.info()"
      ],
      "execution_count": 63,
      "outputs": [
        {
          "output_type": "stream",
          "text": [
            "<class 'pandas.core.frame.DataFrame'>\n",
            "RangeIndex: 6820 entries, 0 to 6819\n",
            "Data columns (total 15 columns):\n",
            " #   Column    Non-Null Count  Dtype  \n",
            "---  ------    --------------  -----  \n",
            " 0   budget    6820 non-null   float64\n",
            " 1   company   6820 non-null   object \n",
            " 2   country   6820 non-null   object \n",
            " 3   director  6820 non-null   object \n",
            " 4   genre     6820 non-null   object \n",
            " 5   gross     6820 non-null   float64\n",
            " 6   name      6820 non-null   object \n",
            " 7   rating    6820 non-null   object \n",
            " 8   released  6820 non-null   object \n",
            " 9   runtime   6820 non-null   int64  \n",
            " 10  score     6820 non-null   float64\n",
            " 11  star      6820 non-null   object \n",
            " 12  votes     6820 non-null   int64  \n",
            " 13  writer    6820 non-null   object \n",
            " 14  year      6820 non-null   int64  \n",
            "dtypes: float64(3), int64(3), object(9)\n",
            "memory usage: 799.3+ KB\n"
          ],
          "name": "stdout"
        }
      ]
    },
    {
      "cell_type": "markdown",
      "metadata": {
        "id": "r6SjbtqRe01g",
        "colab_type": "text"
      },
      "source": [
        "Let's check if there are any missing values"
      ]
    },
    {
      "cell_type": "code",
      "metadata": {
        "id": "qutguLvt2z3C",
        "colab_type": "code",
        "colab": {
          "base_uri": "https://localhost:8080/",
          "height": 289
        },
        "outputId": "5377d6da-a6da-43d6-b6a4-d96352c7c135"
      },
      "source": [
        "df.isnull().sum()"
      ],
      "execution_count": 64,
      "outputs": [
        {
          "output_type": "execute_result",
          "data": {
            "text/plain": [
              "budget      0\n",
              "company     0\n",
              "country     0\n",
              "director    0\n",
              "genre       0\n",
              "gross       0\n",
              "name        0\n",
              "rating      0\n",
              "released    0\n",
              "runtime     0\n",
              "score       0\n",
              "star        0\n",
              "votes       0\n",
              "writer      0\n",
              "year        0\n",
              "dtype: int64"
            ]
          },
          "metadata": {
            "tags": []
          },
          "execution_count": 64
        }
      ]
    },
    {
      "cell_type": "code",
      "metadata": {
        "id": "M5cSwyTW4BwZ",
        "colab_type": "code",
        "colab": {
          "base_uri": "https://localhost:8080/",
          "height": 391
        },
        "outputId": "8fa7484b-d7d6-44b2-bfbc-83c1574fdb34"
      },
      "source": [
        "df.rename({'gross':'revenue'},axis=1,inplace=True)\n",
        "df.info()"
      ],
      "execution_count": 65,
      "outputs": [
        {
          "output_type": "stream",
          "text": [
            "<class 'pandas.core.frame.DataFrame'>\n",
            "RangeIndex: 6820 entries, 0 to 6819\n",
            "Data columns (total 15 columns):\n",
            " #   Column    Non-Null Count  Dtype  \n",
            "---  ------    --------------  -----  \n",
            " 0   budget    6820 non-null   float64\n",
            " 1   company   6820 non-null   object \n",
            " 2   country   6820 non-null   object \n",
            " 3   director  6820 non-null   object \n",
            " 4   genre     6820 non-null   object \n",
            " 5   revenue   6820 non-null   float64\n",
            " 6   name      6820 non-null   object \n",
            " 7   rating    6820 non-null   object \n",
            " 8   released  6820 non-null   object \n",
            " 9   runtime   6820 non-null   int64  \n",
            " 10  score     6820 non-null   float64\n",
            " 11  star      6820 non-null   object \n",
            " 12  votes     6820 non-null   int64  \n",
            " 13  writer    6820 non-null   object \n",
            " 14  year      6820 non-null   int64  \n",
            "dtypes: float64(3), int64(3), object(9)\n",
            "memory usage: 799.3+ KB\n"
          ],
          "name": "stdout"
        }
      ]
    },
    {
      "cell_type": "code",
      "metadata": {
        "id": "ythhlO_L6KyZ",
        "colab_type": "code",
        "colab": {
          "base_uri": "https://localhost:8080/",
          "height": 584
        },
        "outputId": "dac750c7-5a15-469e-d4f0-30a178fe0e4d"
      },
      "source": [
        "import matplotlib.pyplot as plt\n",
        "import seaborn as sns\n",
        "def plot_correlation_map( df ):\n",
        "\n",
        "    corr = df.corr()\n",
        "\n",
        "    s , ax = plt.subplots( figsize =( 12 , 10 ) )\n",
        "\n",
        "    cmap = sns.diverging_palette( 220 , 10 , as_cmap = True )\n",
        "\n",
        "    s = sns.heatmap(\n",
        "\n",
        "        corr, \n",
        "\n",
        "        cmap = cmap,\n",
        "\n",
        "        square=True, \n",
        "\n",
        "        cbar_kws={ 'shrink' : .9 }, \n",
        "\n",
        "        ax=ax, \n",
        "\n",
        "        annot = True, \n",
        "\n",
        "        annot_kws = { 'fontsize' : 12 }\n",
        "\n",
        "        )\n",
        "plot_correlation_map(df)"
      ],
      "execution_count": 66,
      "outputs": [
        {
          "output_type": "display_data",
          "data": {
            "image/png": "[encoded data removed]",
            "text/plain": [
              "<Figure size 864x720 with 2 Axes>"
            ]
          },
          "metadata": {
            "tags": [],
            "needs_background": "light"
          }
        }
      ]
    },
    {
      "cell_type": "markdown",
      "metadata": {
        "id": "n4U19UqbHGlO",
        "colab_type": "text"
      },
      "source": [
        "> Our target is the movies' revenues data.Thanks to this correlogram we can conclude that the budget and votes would\n",
        "be our initial features to express the predictive model.\n",
        "In fact we all know the importance financial ressources for any project and thus in cinema.\n",
        "\n",
        "> Any artistic work depends always on comments and critics which makes votes very important to explain the success of the movie.\n",
        "\n",
        "> As we can see,the score has not a good correlation with the revenue which logically cannot be easily accepted because of the impact that have any rating on cinephiles and thus the movie's revenue.Yet, the score at itself can't give us an idea about the movie's quality and the way people perceive it, because this feature depends on two important data which are: the number of votes for each movie and the rate that got the film.For example, in this same \"score logic\", a movie  with a rate of 8 but with only 10 voters will always be considered better than another movie rated 7 but with 1000 people voting for it.So,we decided to change the rating method and adopt the a weighted rating take into consideration both number of voters and ratings in order to have more homogenous data.\n",
        "\n",
        "> This is the chosen formula:\n",
        "WeightedRating(WR)= R*V/M      \n",
        "> with :\n",
        "1.   R: The actual score of the movie\n",
        "2.   V:The number of votes for the movie\n",
        "3.   M:The total number of votes"
      ]
    },
    {
      "cell_type": "code",
      "metadata": {
        "id": "bpfNCdQ-6mRU",
        "colab_type": "code",
        "colab": {}
      },
      "source": [
        "m=df['votes'].sum()\n",
        "def WR(x,m=m):\n",
        "  s=x['score']\n",
        "  v=x['votes']\n",
        "  return s*v/m\n",
        "df['weighted rate']=df.apply(WR,axis=1)"
      ],
      "execution_count": 67,
      "outputs": []
    },
    {
      "cell_type": "code",
      "metadata": {
        "id": "xGolm1Bnztar",
        "colab_type": "code",
        "colab": {
          "base_uri": "https://localhost:8080/",
          "height": 411
        },
        "outputId": "7807e62c-0cea-485c-e7bc-a7d1a25652ed"
      },
      "source": [
        "df.head()"
      ],
      "execution_count": 68,
      "outputs": [
        {
          "output_type": "execute_result",
          "data": {
            "text/html": [
              "<div>\n",
              "<style scoped>\n",
              "    .dataframe tbody tr th:only-of-type {\n",
              "        vertical-align: middle;\n",
              "    }\n",
              "\n",
              "    .dataframe tbody tr th {\n",
              "        vertical-align: top;\n",
              "    }\n",
              "\n",
              "    .dataframe thead th {\n",
              "        text-align: right;\n",
              "    }\n",
              "</style>\n",
              "<table border=\"1\" class=\"dataframe\">\n",
              "  <thead>\n",
              "    <tr style=\"text-align: right;\">\n",
              "      <th></th>\n",
              "      <th>budget</th>\n",
              "      <th>company</th>\n",
              "      <th>country</th>\n",
              "      <th>director</th>\n",
              "      <th>genre</th>\n",
              "      <th>revenue</th>\n",
              "      <th>name</th>\n",
              "      <th>rating</th>\n",
              "      <th>released</th>\n",
              "      <th>runtime</th>\n",
              "      <th>score</th>\n",
              "      <th>star</th>\n",
              "      <th>votes</th>\n",
              "      <th>writer</th>\n",
              "      <th>year</th>\n",
              "      <th>weighted rate</th>\n",
              "    </tr>\n",
              "  </thead>\n",
              "  <tbody>\n",
              "    <tr>\n",
              "      <th>0</th>\n",
              "      <td>8000000.0</td>\n",
              "      <td>Columbia Pictures Corporation</td>\n",
              "      <td>USA</td>\n",
              "      <td>Rob Reiner</td>\n",
              "      <td>Adventure</td>\n",
              "      <td>52287414.0</td>\n",
              "      <td>Stand by Me</td>\n",
              "      <td>R</td>\n",
              "      <td>1986-08-22</td>\n",
              "      <td>89</td>\n",
              "      <td>8.1</td>\n",
              "      <td>Wil Wheaton</td>\n",
              "      <td>299174</td>\n",
              "      <td>Stephen King</td>\n",
              "      <td>1986</td>\n",
              "      <td>0.004989</td>\n",
              "    </tr>\n",
              "    <tr>\n",
              "      <th>1</th>\n",
              "      <td>6000000.0</td>\n",
              "      <td>Paramount Pictures</td>\n",
              "      <td>USA</td>\n",
              "      <td>John Hughes</td>\n",
              "      <td>Comedy</td>\n",
              "      <td>70136369.0</td>\n",
              "      <td>Ferris Bueller's Day Off</td>\n",
              "      <td>PG-13</td>\n",
              "      <td>1986-06-11</td>\n",
              "      <td>103</td>\n",
              "      <td>7.8</td>\n",
              "      <td>Matthew Broderick</td>\n",
              "      <td>264740</td>\n",
              "      <td>John Hughes</td>\n",
              "      <td>1986</td>\n",
              "      <td>0.004251</td>\n",
              "    </tr>\n",
              "    <tr>\n",
              "      <th>2</th>\n",
              "      <td>15000000.0</td>\n",
              "      <td>Paramount Pictures</td>\n",
              "      <td>USA</td>\n",
              "      <td>Tony Scott</td>\n",
              "      <td>Action</td>\n",
              "      <td>179800601.0</td>\n",
              "      <td>Top Gun</td>\n",
              "      <td>PG</td>\n",
              "      <td>1986-05-16</td>\n",
              "      <td>110</td>\n",
              "      <td>6.9</td>\n",
              "      <td>Tom Cruise</td>\n",
              "      <td>236909</td>\n",
              "      <td>Jim Cash</td>\n",
              "      <td>1986</td>\n",
              "      <td>0.003365</td>\n",
              "    </tr>\n",
              "    <tr>\n",
              "      <th>3</th>\n",
              "      <td>18500000.0</td>\n",
              "      <td>Twentieth Century Fox Film Corporation</td>\n",
              "      <td>USA</td>\n",
              "      <td>James Cameron</td>\n",
              "      <td>Action</td>\n",
              "      <td>85160248.0</td>\n",
              "      <td>Aliens</td>\n",
              "      <td>R</td>\n",
              "      <td>1986-07-18</td>\n",
              "      <td>137</td>\n",
              "      <td>8.4</td>\n",
              "      <td>Sigourney Weaver</td>\n",
              "      <td>540152</td>\n",
              "      <td>James Cameron</td>\n",
              "      <td>1986</td>\n",
              "      <td>0.009341</td>\n",
              "    </tr>\n",
              "    <tr>\n",
              "      <th>4</th>\n",
              "      <td>9000000.0</td>\n",
              "      <td>Walt Disney Pictures</td>\n",
              "      <td>USA</td>\n",
              "      <td>Randal Kleiser</td>\n",
              "      <td>Adventure</td>\n",
              "      <td>18564613.0</td>\n",
              "      <td>Flight of the Navigator</td>\n",
              "      <td>PG</td>\n",
              "      <td>1986-08-01</td>\n",
              "      <td>90</td>\n",
              "      <td>6.9</td>\n",
              "      <td>Joey Cramer</td>\n",
              "      <td>36636</td>\n",
              "      <td>Mark H. Baker</td>\n",
              "      <td>1986</td>\n",
              "      <td>0.000520</td>\n",
              "    </tr>\n",
              "  </tbody>\n",
              "</table>\n",
              "</div>"
            ],
            "text/plain": [
              "       budget                                 company  ...  year weighted rate\n",
              "0   8000000.0           Columbia Pictures Corporation  ...  1986      0.004989\n",
              "1   6000000.0                      Paramount Pictures  ...  1986      0.004251\n",
              "2  15000000.0                      Paramount Pictures  ...  1986      0.003365\n",
              "3  18500000.0  Twentieth Century Fox Film Corporation  ...  1986      0.009341\n",
              "4   9000000.0                    Walt Disney Pictures  ...  1986      0.000520\n",
              "\n",
              "[5 rows x 16 columns]"
            ]
          },
          "metadata": {
            "tags": []
          },
          "execution_count": 68
        }
      ]
    },
    {
      "cell_type": "code",
      "metadata": {
        "id": "hjdO_xrMz2ED",
        "colab_type": "code",
        "colab": {
          "base_uri": "https://localhost:8080/",
          "height": 170
        },
        "outputId": "5efbab9b-e385-41d7-acfd-337e3d574381"
      },
      "source": [
        "df['votes'].describe()"
      ],
      "execution_count": 69,
      "outputs": [
        {
          "output_type": "execute_result",
          "data": {
            "text/plain": [
              "count    6.820000e+03\n",
              "mean     7.121952e+04\n",
              "std      1.305176e+05\n",
              "min      2.700000e+01\n",
              "25%      7.665250e+03\n",
              "50%      2.589250e+04\n",
              "75%      7.581225e+04\n",
              "max      1.861666e+06\n",
              "Name: votes, dtype: float64"
            ]
          },
          "metadata": {
            "tags": []
          },
          "execution_count": 69
        }
      ]
    },
    {
      "cell_type": "code",
      "metadata": {
        "id": "PJjSmerPz84r",
        "colab_type": "code",
        "colab": {
          "base_uri": "https://localhost:8080/",
          "height": 594
        },
        "outputId": "c5bf8a40-4025-4158-8e3e-80b7edf1f81e"
      },
      "source": [
        "plot_correlation_map(df)"
      ],
      "execution_count": 70,
      "outputs": [
        {
          "output_type": "display_data",
          "data": {
            "image/png": "[encoded data removed]",
            "text/plain": [
              "<Figure size 864x720 with 2 Axes>"
            ]
          },
          "metadata": {
            "tags": [],
            "needs_background": "light"
          }
        }
      ]
    },
    {
      "cell_type": "markdown",
      "metadata": {
        "id": "KK9oCq60dkds",
        "colab_type": "text"
      },
      "source": [
        "> The weighted rate's correlation with our initial target (the revenue) is way too better than the score's one.It is obvious that the new feature is more significant since we are dealing with movies having different number of votes and dissimilar ratings.\n",
        "\n",
        "> As we've seen previously,we do not have NaN values, but we can have some zero \"non-missing\" numerical values in some columns whcich may lead us to the same NaN problem ,so let's re-check the whole values in our dataset."
      ]
    },
    {
      "cell_type": "code",
      "metadata": {
        "id": "y4LgAV9t0J_q",
        "colab_type": "code",
        "colab": {
          "base_uri": "https://localhost:8080/",
          "height": 1000
        },
        "outputId": "2983ec51-fe32-4a0a-9e2d-c95c411561a1"
      },
      "source": [
        "for i in df.columns:\n",
        "    x = df[i].value_counts()\n",
        "    print(\"Column name is:\",i.upper())\n",
        "    print(x)\n",
        "    print()"
      ],
      "execution_count": 71,
      "outputs": [
        {
          "output_type": "stream",
          "text": [
            "Column name is: BUDGET\n",
            "0.0            2182\n",
            "20000000.0      207\n",
            "30000000.0      191\n",
            "25000000.0      177\n",
            "15000000.0      170\n",
            "               ... \n",
            "29000001.0        1\n",
            "128000000.0       1\n",
            "24500000.0        1\n",
            "300000.0          1\n",
            "5800000.0         1\n",
            "Name: budget, Length: 351, dtype: int64\n",
            "\n",
            "Column name is: COMPANY\n",
            "Universal Pictures                        302\n",
            "Warner Bros.                              294\n",
            "Paramount Pictures                        259\n",
            "Twentieth Century Fox Film Corporation    205\n",
            "New Line Cinema                           172\n",
            "                                         ... \n",
            "Bombshell Pictures                          1\n",
            "Esperanza Films Inc.                        1\n",
            "Imprint Entertainment                       1\n",
            "Cinefarm                                    1\n",
            "Cinema 7                                    1\n",
            "Name: company, Length: 2179, dtype: int64\n",
            "\n",
            "Column name is: COUNTRY\n",
            "USA                               4872\n",
            "UK                                 698\n",
            "France                             283\n",
            "Canada                             150\n",
            "Germany                            134\n",
            "Australia                           82\n",
            "Japan                               68\n",
            "Spain                               56\n",
            "Italy                               51\n",
            "Ireland                             44\n",
            "India                               39\n",
            "Hong Kong                           39\n",
            "Denmark                             33\n",
            "China                               24\n",
            "South Korea                         20\n",
            "New Zealand                         18\n",
            "Sweden                              18\n",
            "Belgium                             18\n",
            "Mexico                              15\n",
            "Argentina                           13\n",
            "Netherlands                         12\n",
            "Iran                                12\n",
            "Russia                              10\n",
            "South Africa                         9\n",
            "Taiwan                               8\n",
            "Norway                               8\n",
            "Czech Republic                       8\n",
            "Hungary                              7\n",
            "Switzerland                          6\n",
            "Brazil                               6\n",
            "Austria                              6\n",
            "Romania                              5\n",
            "Israel                               5\n",
            "Greece                               5\n",
            "Chile                                4\n",
            "West Germany                         4\n",
            "Thailand                             3\n",
            "Finland                              3\n",
            "Peru                                 2\n",
            "Portugal                             2\n",
            "Colombia                             2\n",
            "Indonesia                            2\n",
            "Poland                               2\n",
            "Federal Republic of Yugoslavia       1\n",
            "Malta                                1\n",
            "Iceland                              1\n",
            "Panama                               1\n",
            "Bahamas                              1\n",
            "Jamaica                              1\n",
            "Soviet Union                         1\n",
            "Ukraine                              1\n",
            "Aruba                                1\n",
            "Palestine                            1\n",
            "Republic of Macedonia                1\n",
            "Kenya                                1\n",
            "Saudi Arabia                         1\n",
            "Cuba                                 1\n",
            "Name: country, dtype: int64\n",
            "\n",
            "Column name is: DIRECTOR\n",
            "Woody Allen          33\n",
            "Clint Eastwood       24\n",
            "Steven Soderbergh    21\n",
            "Steven Spielberg     21\n",
            "Ron Howard           20\n",
            "                     ..\n",
            "Imtiaz Ali            1\n",
            "Jamie Travis          1\n",
            "James Signorelli      1\n",
            "Adam Marcus           1\n",
            "Jean-Claude Lord      1\n",
            "Name: director, Length: 2759, dtype: int64\n",
            "\n",
            "Column name is: GENRE\n",
            "Comedy       2080\n",
            "Drama        1444\n",
            "Action       1331\n",
            "Crime         522\n",
            "Adventure     392\n",
            "Biography     359\n",
            "Horror        277\n",
            "Animation     277\n",
            "Mystery        38\n",
            "Fantasy        32\n",
            "Thriller       18\n",
            "Romance        15\n",
            "Family         14\n",
            "Sci-Fi         13\n",
            "Musical         4\n",
            "Western         2\n",
            "War             2\n",
            "Name: genre, dtype: int64\n",
            "\n",
            "Column name is: REVENUE\n",
            "20100000.0    3\n",
            "3500000.0     3\n",
            "1200000.0     3\n",
            "700000.0      2\n",
            "1500000.0     2\n",
            "             ..\n",
            "68518533.0    1\n",
            "20275446.0    1\n",
            "69117629.0    1\n",
            "57328603.0    1\n",
            "2368.0        1\n",
            "Name: revenue, Length: 6802, dtype: int64\n",
            "\n",
            "Column name is: NAME\n",
            "Pulse                3\n",
            "Hamlet               3\n",
            "Man of the House     2\n",
            "Playing for Keeps    2\n",
            "Voraz                2\n",
            "                    ..\n",
            "Next of Kin          1\n",
            "Samantha             1\n",
            "The Chorus           1\n",
            "Chattahoochee        1\n",
            "Queens Logic         1\n",
            "Name: name, Length: 6731, dtype: int64\n",
            "\n",
            "Column name is: RATING\n",
            "R                3392\n",
            "PG-13            1995\n",
            "PG                951\n",
            "NOT RATED         174\n",
            "G                 147\n",
            "UNRATED            71\n",
            "Not specified      63\n",
            "NC-17              22\n",
            "TV-14               1\n",
            "TV-MA               1\n",
            "B15                 1\n",
            "TV-PG               1\n",
            "B                   1\n",
            "Name: rating, dtype: int64\n",
            "\n",
            "Column name is: RELEASED\n",
            "1991-10-04    10\n",
            "1988-10-21     9\n",
            "2008-09-26     9\n",
            "1988-11-18     9\n",
            "2006-10-13     8\n",
            "              ..\n",
            "1986-04-04     1\n",
            "2006-10-05     1\n",
            "2011-07-16     1\n",
            "1990-11-30     1\n",
            "1986-06-11     1\n",
            "Name: released, Length: 2403, dtype: int64\n",
            "\n",
            "Column name is: RUNTIME\n",
            "100    546\n",
            "97     209\n",
            "98     200\n",
            "95     193\n",
            "101    185\n",
            "      ... \n",
            "185      1\n",
            "173      1\n",
            "280      1\n",
            "224      1\n",
            "70       1\n",
            "Name: runtime, Length: 135, dtype: int64\n",
            "\n",
            "Column name is: SCORE\n",
            "6.7    304\n",
            "6.5    284\n",
            "6.3    284\n",
            "6.4    283\n",
            "6.6    273\n",
            "      ... \n",
            "9.0      1\n",
            "1.5      1\n",
            "1.6      1\n",
            "2.1      1\n",
            "2.5      1\n",
            "Name: score, Length: 75, dtype: int64\n",
            "\n",
            "Column name is: STAR\n",
            "Nicolas Cage         42\n",
            "Robert De Niro       38\n",
            "Denzel Washington    36\n",
            "Tom Hanks            35\n",
            "Bruce Willis         33\n",
            "                     ..\n",
            "Andrew Lawrence       1\n",
            "Stephen Baldwin       1\n",
            "Günes Sensoy          1\n",
            "Olivier Martinez      1\n",
            "Guillaume Canet       1\n",
            "Name: star, Length: 2504, dtype: int64\n",
            "\n",
            "Column name is: VOTES\n",
            "1340      4\n",
            "2003      4\n",
            "1959      3\n",
            "5757      3\n",
            "1943      3\n",
            "         ..\n",
            "39646     1\n",
            "4831      1\n",
            "2788      1\n",
            "213733    1\n",
            "20482     1\n",
            "Name: votes, Length: 6512, dtype: int64\n",
            "\n",
            "Column name is: WRITER\n",
            "Woody Allen             32\n",
            "Luc Besson              25\n",
            "Stephen King            22\n",
            "John Hughes             18\n",
            "David Mamet             14\n",
            "                        ..\n",
            "Dominic Anciano          1\n",
            "László Krasznahorkai     1\n",
            "Toni Morrison            1\n",
            "Jon Watts                1\n",
            "Merian C. Cooper         1\n",
            "Name: writer, Length: 4199, dtype: int64\n",
            "\n",
            "Column name is: YEAR\n",
            "1989    221\n",
            "2015    220\n",
            "2013    220\n",
            "1992    220\n",
            "1996    220\n",
            "2000    220\n",
            "2004    220\n",
            "2008    220\n",
            "2012    220\n",
            "2016    220\n",
            "1993    220\n",
            "1997    220\n",
            "2001    220\n",
            "2005    220\n",
            "2009    220\n",
            "1986    220\n",
            "2011    220\n",
            "1990    220\n",
            "1994    220\n",
            "1998    220\n",
            "2002    220\n",
            "2006    220\n",
            "2010    220\n",
            "2014    220\n",
            "1991    220\n",
            "1995    220\n",
            "1999    220\n",
            "2003    220\n",
            "2007    220\n",
            "1988    220\n",
            "1987    219\n",
            "Name: year, dtype: int64\n",
            "\n",
            "Column name is: WEIGHTED RATE\n",
            "0.000035    2\n",
            "0.000054    2\n",
            "0.000027    2\n",
            "0.000087    2\n",
            "0.000267    2\n",
            "           ..\n",
            "0.000210    1\n",
            "0.000008    1\n",
            "0.000063    1\n",
            "0.000059    1\n",
            "0.000069    1\n",
            "Name: weighted rate, Length: 6807, dtype: int64\n",
            "\n"
          ],
          "name": "stdout"
        }
      ]
    },
    {
      "cell_type": "markdown",
      "metadata": {
        "id": "otg6to7bZ8c8",
        "colab_type": "text"
      },
      "source": [
        "The budget contains too many null cells so we decided to replace them by the mean of the entire column"
      ]
    },
    {
      "cell_type": "code",
      "metadata": {
        "id": "q2CehIa_8oEz",
        "colab_type": "code",
        "colab": {
          "base_uri": "https://localhost:8080/",
          "height": 170
        },
        "outputId": "4a1927ad-00f9-4734-dcc1-58f45f72df45"
      },
      "source": [
        "df['budget'].describe()"
      ],
      "execution_count": 72,
      "outputs": [
        {
          "output_type": "execute_result",
          "data": {
            "text/plain": [
              "count    6.820000e+03\n",
              "mean     2.458113e+07\n",
              "std      3.702254e+07\n",
              "min      0.000000e+00\n",
              "25%      0.000000e+00\n",
              "50%      1.100000e+07\n",
              "75%      3.200000e+07\n",
              "max      3.000000e+08\n",
              "Name: budget, dtype: float64"
            ]
          },
          "metadata": {
            "tags": []
          },
          "execution_count": 72
        }
      ]
    },
    {
      "cell_type": "code",
      "metadata": {
        "id": "cFQGoXSaZTs0",
        "colab_type": "code",
        "colab": {
          "base_uri": "https://localhost:8080/",
          "height": 170
        },
        "outputId": "3caf4e82-1e2c-4d9a-efe9-058e12811327"
      },
      "source": [
        "df.loc[df['budget'] ==0, 'budget'] = df['budget'].mean()\n",
        "df['budget'].describe()"
      ],
      "execution_count": 73,
      "outputs": [
        {
          "output_type": "execute_result",
          "data": {
            "text/plain": [
              "count    6.820000e+03\n",
              "mean     3.244565e+07\n",
              "std      3.339852e+07\n",
              "min      6.000000e+03\n",
              "25%      1.500000e+07\n",
              "50%      2.458113e+07\n",
              "75%      3.200000e+07\n",
              "max      3.000000e+08\n",
              "Name: budget, dtype: float64"
            ]
          },
          "metadata": {
            "tags": []
          },
          "execution_count": 73
        }
      ]
    },
    {
      "cell_type": "markdown",
      "metadata": {
        "id": "ZOKuZLHLjq6j",
        "colab_type": "text"
      },
      "source": [
        "Let's study the relationships between different features in our dataset."
      ]
    },
    {
      "cell_type": "code",
      "metadata": {
        "id": "rbkTPtqJ9hHL",
        "colab_type": "code",
        "colab": {
          "base_uri": "https://localhost:8080/",
          "height": 276
        },
        "outputId": "e909a11a-d173-4cf7-a6e3-74e1ec6bd9ec"
      },
      "source": [
        "plt.plot(df['score'],df['votes'],'ro')\n",
        "plt.show()"
      ],
      "execution_count": 112,
      "outputs": [
        {
          "output_type": "display_data",
          "data": {
            "image/png": "[encoded data removed]",
            "text/plain": [
              "<Figure size 432x288 with 1 Axes>"
            ]
          },
          "metadata": {
            "tags": [],
            "needs_background": "light"
          }
        }
      ]
    },
    {
      "cell_type": "code",
      "metadata": {
        "id": "66HHw5dqWe8m",
        "colab_type": "code",
        "colab": {
          "base_uri": "https://localhost:8080/",
          "height": 594
        },
        "outputId": "62d2d44e-3c52-4763-ea3f-484ce4294157"
      },
      "source": [
        "plot_correlation_map(df)"
      ],
      "execution_count": 75,
      "outputs": [
        {
          "output_type": "display_data",
          "data": {
            "image/png": "[encoded data removed]",
            "text/plain": [
              "<Figure size 864x720 with 2 Axes>"
            ]
          },
          "metadata": {
            "tags": [],
            "needs_background": "light"
          }
        }
      ]
    },
    {
      "cell_type": "markdown",
      "metadata": {
        "id": "Cwv8jxjnkans",
        "colab_type": "text"
      },
      "source": [
        "The revenue-budget correlation has a bit lowered since our last data modification (replacing null values by mean)"
      ]
    },
    {
      "cell_type": "code",
      "metadata": {
        "id": "jVKPEqc2aT_m",
        "colab_type": "code",
        "colab": {
          "base_uri": "https://localhost:8080/",
          "height": 221
        },
        "outputId": "e259f3d8-61e8-4b61-c0e8-12212305be69"
      },
      "source": [
        "df['star'].value_counts()"
      ],
      "execution_count": 76,
      "outputs": [
        {
          "output_type": "execute_result",
          "data": {
            "text/plain": [
              "Nicolas Cage         42\n",
              "Robert De Niro       38\n",
              "Denzel Washington    36\n",
              "Tom Hanks            35\n",
              "Bruce Willis         33\n",
              "                     ..\n",
              "Andrew Lawrence       1\n",
              "Stephen Baldwin       1\n",
              "Günes Sensoy          1\n",
              "Olivier Martinez      1\n",
              "Guillaume Canet       1\n",
              "Name: star, Length: 2504, dtype: int64"
            ]
          },
          "metadata": {
            "tags": []
          },
          "execution_count": 76
        }
      ]
    },
    {
      "cell_type": "code",
      "metadata": {
        "id": "p6c-42cOD0qt",
        "colab_type": "code",
        "colab": {
          "base_uri": "https://localhost:8080/",
          "height": 71
        },
        "outputId": "dcd0feaa-e848-427c-b933-e29fe7c00dba"
      },
      "source": [
        "Actors=df['star'].value_counts()\n",
        "l=dict(Actors)\n",
        "l1=[]\n",
        "l2=[]\n",
        "for k, v in l.items():\n",
        "  if l[k]>=25:\n",
        "    l1.append(k) \n",
        "    l2.append(v)\n",
        "print(l1)\n",
        "print(l2)\n"
      ],
      "execution_count": 115,
      "outputs": [
        {
          "output_type": "stream",
          "text": [
            "['Nicolas Cage', 'Robert De Niro', 'Denzel Washington', 'Tom Hanks', 'Bruce Willis', 'Johnny Depp', 'Ben Stiller', 'Adam Sandler', 'Tom Cruise', 'Kevin Costner', 'John Cusack', 'Robin Williams', 'Eddie Murphy', 'Sylvester Stallone', 'John Travolta']\n",
            "[42, 38, 36, 35, 33, 32, 27, 27, 27, 26, 26, 25, 25, 25, 25]\n"
          ],
          "name": "stdout"
        }
      ]
    },
    {
      "cell_type": "markdown",
      "metadata": {
        "id": "RTOicNWJoMU9",
        "colab_type": "text"
      },
      "source": [
        "These are the lists of the top 10 actors in the last 30 years"
      ]
    },
    {
      "cell_type": "code",
      "metadata": {
        "id": "K11V_aAnFSoZ",
        "colab_type": "code",
        "colab": {
          "base_uri": "https://localhost:8080/",
          "height": 281
        },
        "outputId": "e00ef4e8-d9dd-49b9-9636-3313c2622c98"
      },
      "source": [
        "import numpy as np\n",
        "\n",
        "height = l2\n",
        "bars = tuple(l1)\n",
        "y_pos = np.arange(len(bars))\n",
        " \n",
        "# Create horizontal bars\n",
        "plt.barh(y_pos, height)\n",
        " \n",
        "# Create names on the y-axis\n",
        "plt.yticks(y_pos, bars)\n",
        "plt.title('Top Actors in the early 30 years') \n",
        "for index, value in enumerate(height):\n",
        "    plt.text(value, index, str(value))\n",
        "# Show graphic\n",
        "plt.show()\n"
      ],
      "execution_count": 78,
      "outputs": [
        {
          "output_type": "display_data",
          "data": {
            "image/png": "[encoded data removed]",
            "text/plain": [
              "<Figure size 432x288 with 1 Axes>"
            ]
          },
          "metadata": {
            "tags": [],
            "needs_background": "light"
          }
        }
      ]
    },
    {
      "cell_type": "code",
      "metadata": {
        "id": "N3xitwvjMcGW",
        "colab_type": "code",
        "colab": {
          "base_uri": "https://localhost:8080/",
          "height": 408
        },
        "outputId": "3c95088d-2c8b-451a-f774-164738c7b398"
      },
      "source": [
        "df.info()"
      ],
      "execution_count": 79,
      "outputs": [
        {
          "output_type": "stream",
          "text": [
            "<class 'pandas.core.frame.DataFrame'>\n",
            "RangeIndex: 6820 entries, 0 to 6819\n",
            "Data columns (total 16 columns):\n",
            " #   Column         Non-Null Count  Dtype  \n",
            "---  ------         --------------  -----  \n",
            " 0   budget         6820 non-null   float64\n",
            " 1   company        6820 non-null   object \n",
            " 2   country        6820 non-null   object \n",
            " 3   director       6820 non-null   object \n",
            " 4   genre          6820 non-null   object \n",
            " 5   revenue        6820 non-null   float64\n",
            " 6   name           6820 non-null   object \n",
            " 7   rating         6820 non-null   object \n",
            " 8   released       6820 non-null   object \n",
            " 9   runtime        6820 non-null   int64  \n",
            " 10  score          6820 non-null   float64\n",
            " 11  star           6820 non-null   object \n",
            " 12  votes          6820 non-null   int64  \n",
            " 13  writer         6820 non-null   object \n",
            " 14  year           6820 non-null   int64  \n",
            " 15  weighted rate  6820 non-null   float64\n",
            "dtypes: float64(4), int64(3), object(9)\n",
            "memory usage: 852.6+ KB\n"
          ],
          "name": "stdout"
        }
      ]
    },
    {
      "cell_type": "code",
      "metadata": {
        "id": "UvCKoubMafZb",
        "colab_type": "code",
        "colab": {
          "base_uri": "https://localhost:8080/",
          "height": 221
        },
        "outputId": "4aa6ea5d-166f-4206-e458-61283b702723"
      },
      "source": [
        "df['company'].value_counts()"
      ],
      "execution_count": 80,
      "outputs": [
        {
          "output_type": "execute_result",
          "data": {
            "text/plain": [
              "Universal Pictures                        302\n",
              "Warner Bros.                              294\n",
              "Paramount Pictures                        259\n",
              "Twentieth Century Fox Film Corporation    205\n",
              "New Line Cinema                           172\n",
              "                                         ... \n",
              "Bombshell Pictures                          1\n",
              "Esperanza Films Inc.                        1\n",
              "Imprint Entertainment                       1\n",
              "Cinefarm                                    1\n",
              "Cinema 7                                    1\n",
              "Name: company, Length: 2179, dtype: int64"
            ]
          },
          "metadata": {
            "tags": []
          },
          "execution_count": 80
        }
      ]
    },
    {
      "cell_type": "code",
      "metadata": {
        "id": "NAh7D6IshKNB",
        "colab_type": "code",
        "colab": {
          "base_uri": "https://localhost:8080/",
          "height": 482
        },
        "outputId": "10bd8d53-b0bb-4d41-f499-c1a6431e0017"
      },
      "source": [
        "fig, ax = plt.subplots(figsize=(8, 8), subplot_kw=dict(aspect=\"equal\"))\n",
        "def func(pct, allvals):\n",
        "    absolute = int(pct/100.*np.sum(allvals))\n",
        "    return \"{:.1f}%\\n({:d} Movies)\".format(pct, absolute)\n",
        "\n",
        "\n",
        "wedges, texts, autotexts = ax.pie(l5, autopct=lambda pct: func(pct, l5),\n",
        "                                textprops=dict(color=\"w\"))\n",
        "ax.legend(wedges, l4,\n",
        "          title=\"Production Companies\",\n",
        "          loc=\"center left\",\n",
        "          bbox_to_anchor=(1, 0, 0.5, 1))\n",
        "\n",
        "plt.setp(autotexts, size=12, weight=\"bold\")\n",
        "\n",
        "ax.set_title(\"Top 4 of the production companies in the last 3 decades\")\n",
        "\n",
        "plt.show()"
      ],
      "execution_count": 116,
      "outputs": [
        {
          "output_type": "display_data",
          "data": {
            "image/png": "[encoded data removed]",
            "text/plain": [
              "<Figure size 576x576 with 1 Axes>"
            ]
          },
          "metadata": {
            "tags": []
          }
        }
      ]
    },
    {
      "cell_type": "code",
      "metadata": {
        "id": "WAl5cxkrlGsJ",
        "colab_type": "code",
        "colab": {}
      },
      "source": [
        ""
      ],
      "execution_count": null,
      "outputs": []
    }
  ]
}